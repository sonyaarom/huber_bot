{
 "cells": [
  {
   "cell_type": "code",
   "execution_count": 1,
   "metadata": {},
   "outputs": [
    {
     "name": "stderr",
     "output_type": "stream",
     "text": [
      "/Users/s.konchakova/Thesis/huber/lib/python3.11/site-packages/tqdm/auto.py:21: TqdmWarning: IProgress not found. Please update jupyter and ipywidgets. See https://ipywidgets.readthedocs.io/en/stable/user_install.html\n",
      "  from .autonotebook import tqdm as notebook_tqdm\n",
      "Fetching 4 files: 100%|██████████| 4/4 [03:10<00:00, 47.55s/it]\n",
      "/Users/s.konchakova/Thesis/huber/lib/python3.11/site-packages/transformers/convert_slow_tokenizer.py:562: UserWarning: The sentencepiece tokenizer that you are converting to a fast tokenizer uses the byte fallback option which is not implemented in the fast tokenizers. In practice this means that the fast version of the tokenizer can produce unknown tokens whereas the sentencepiece version would have converted these unknown tokens into a sequence of byte tokens matching the original piece of text.\n",
      "  warnings.warn(\n"
     ]
    }
   ],
   "source": [
    "import pandas as pd\n",
    "import numpy as np\n",
    "from gliner import GLiNER\n",
    "import os\n",
    "import sys \n",
    "cwd = os.getcwd()\n",
    "\n",
    "# Add the '../scripts' directory to the system path\n",
    "sys.path.insert(0, os.path.abspath(os.path.join(cwd, '../scripts')))\n",
    "sys.path.insert(0, os.path.abspath(os.path.join(cwd, '../src')))\n",
    "sys.path.insert(0, os.path.abspath(os.path.join(cwd, '../src/data_chunker')))\n",
    "\n",
    "# Initialize GLiNER with the base model\n",
    "model = GLiNER.from_pretrained(\"urchade/gliner_small-v2.1\")\n"
   ]
  },
  {
   "cell_type": "code",
   "execution_count": 75,
   "metadata": {},
   "outputs": [
    {
     "data": {
      "text/plain": [
       "'The formal basis of doctoral studies is constituted by theDoctoral degree regulations of the School of Business and Economics (May 21, 2010). To register for doctoral studies at the School, please follow the following steps: Step 1: Supervision agreement If you are pursuing a structured doctoral degree programme, you must conclude a written supervision agreement once you have been successfully admitted to the programme by the relevant office. If you are pursuing an individual doctoral degree programme, you must conclude the supervision agreement with your supervisor directly. Step 2: Applying for admission to doctoral studies After concluding your supervision agreement, you must submit an application for admission to doctoral studies to the Graduate Office of the School of Business and Economics. The following documents are required: application for admission to doctoral studies copy of the supervision agreement an up-to-date CV copies of all university degrees (bachelor\\'s and master\\'s degree certificates incl. transcripts) All university degrees must also be submitted in the original or as officially certified copies. Degrees obtained at non-German universities must undergo an \"equivalence test\". For this, the Graduate Office requires the degree certificates and transcripts in German or English, or in the original language together with an officially certified translation. Please ensure that your application for admission to doctoral studies is completed in full and signed by your supervisor. (1) Please submit all documents digitally in advance by email for a pre-check. (2) After having received the result of pre-check, please hand/send in all documents in print version and with original signature. Step 3: Notice of admission Once all documents have been submitted, they will be reviewed and approved by the School\\'s Doctoral Degrees Board. You will then receive the notice of admission from the Dean\\'s Office. Your time as a doctoral candidate officially begins on the date of the notice of approval. Please note: Admission to doctoral studies is valid for three years. If you have not completed your doctoral studies by the end of this time frame, you are required to apply for prolongation of the standard period of study. Step 4: Enrolment as a doctoral candidate Once you have received the notice of admission from the School, you are required to submit an application for enrolment/registration as a doctoral candidate to the Students Office of Humboldt-Universität within four weeks. After this period, your admission to doctoral studies by the School for enrolment/registration in the Students Office of Humboldt-Universität will become invalid. Forms all forms regarding doctoral studies Further information information from the Student Service of HU (SSC) regarding doctoral studies'"
      ]
     },
     "execution_count": 75,
     "metadata": {},
     "output_type": "execute_result"
    }
   ],
   "source": [
    "df_subset = pd.read_csv('../../assets/csv/data_subset.csv', index_col=0)\n",
    "df_subset.head()\n",
    "#\n",
    "text = df_subset['text'].iloc[4]\n",
    "text"
   ]
  },
  {
   "cell_type": "code",
   "execution_count": 76,
   "metadata": {},
   "outputs": [
    {
     "data": {
      "text/plain": [
       "\"Postal Address:Institute of Accounting and AuditingSchool of Business and EconomicsHumboldt-Universität zu BerlinUnter den Linden 6, 10099 Berlin Office: Dorotheenstraße 1, 10117 Berlin[How to find us] Our professors:Prof. Dr. Hanne BöckemProf. Dr. Ulf BrüggemannProf. Dr. Joachim Gassen Phone: +49 30 2093-99440 Fax: +49 30 2093-99441 E-Mail: wpruefung@wiwi.hu-berlin.de The TRR 266 Accounting for Transparency is a trans-regional Collaborative Research Center funded by the German Research Foundation (Deutsche Forschungsgemeinschaft – DFG). Our team of more than 100 dedicated researchers examines how accounting and taxation affect firm and regulatory transparency and how regulation and transparency impact our economy and society. We intend to help develop effective regulation for firm transparency and a transparent tax system. Naturally, we also ensure transparency of our own research. Aktuelles Latest News: 01.07.2024 - Seminare im Wintersemester 2024/25: Bewerbungsfristen / Seminars for the winter term 2024/25: application deadlines Das Institut für Rechnungswesen und Wirtschaftsprüfung bietet im kommenden Semester folgende Seminare an: 1. Bachelorseminar (Deutsch)Das Seminar richtet sich an Bachelorstudierende. Der erfolgreiche Abschluss ist Voraussetzung für eine Bachelorarbeit an unserem Institut. Weitere Informationen befinden sich im Anmeldebogen. Anmeldungen müssen bis 30.09.2024 an wpruefung@wiwi.hu-berlin.de geschickt werden. 2. Master's Thesis Seminar Accounting (Englisch)Das Seminar richtet sich an Masterstudierende. Der erfolgreiche Abschluss ist Voraussetzung für eine Masterarbeit an unserem Institut. Weitere Informationen befinden sich im Syllabus. Anmeldungen müssen bis 30.09.2024 an u.bruggemann@hu-berlin.de geschickt werden.********************************************************* The Institute of Accounting and Auditing offers the following seminars in the upcoming summer term: 1. Bachelorseminar (German)The seminar is targeted at Bachelor level students. Successful completion of this seminar is a necessary and sufficient requirement to write a Bachelor thesis at the Institute of Accounting and Auditing. For more information, please see the document. Applications have to be sent to wpruefung@wiwi.hu-berlin.de by September 30, 2024. 2. Master's Thesis Seminar Accounting (English)The seminar is designed for Master’s students. Students who successfully complete this seminar are eligible to write a Master’s thesis at the Institute of Accounting and Auditing. For more information, please see the syllabus. Applications have to be sent to u.bruggemann@hu-berlin.de by September 30, 2024. Latest Publications: Beyer, B., Chaskel, R., Euler, S., Gassen, J., Großkopf, A., Sellhorn, T. (2023): How Does Carbon Footprint Information Affect Consumer Choice? A Field Experiment. Journal of Accounting Research. Bischof, J., Brüggemann, U., & Daske, H. (2022): Asset reclassifications and bank recapitalization during the financial crisis. Management Science 69(1): 75-100. Brendel, J. and J. Ryans (2021): Responding to Activist Short Sellers: Allegations, Firm Responses, and Outcomes. Journal of Accounting Research 59(2): 487-528. Gassen, J., H. Skaife and D. Veenman (2020): Illiquidity and the Measurement of Stock Price Synchronicity. Contemporary Accounting Research 37(1): 419-456. Current Events: June 27, 2024 Hips Don't Lie: Physician Incentive Contracting and Surgery Outcomes, Speaker: Thomas Simon July 3, 2024 Seasonal Variation in Cash Flows and the Timing Role of Accruals, Speaker: Martin Kapons\""
      ]
     },
     "execution_count": 76,
     "metadata": {},
     "output_type": "execute_result"
    }
   ],
   "source": [
    "#check text column and substitute all ' [at] ' with '@'\n",
    "df_subset['text'] = df_subset['text'].str.replace('(at)', '@')\n",
    "text = df_subset['text'].iloc[134]\n",
    "text"
   ]
  },
  {
   "cell_type": "code",
   "execution_count": 77,
   "metadata": {},
   "outputs": [
    {
     "name": "stderr",
     "output_type": "stream",
     "text": [
      "/Users/s.konchakova/Thesis/huber/lib/python3.11/site-packages/gliner/data_processing/processor.py:269: UserWarning: Sentence of length 725 has been truncated to 384\n",
      "  warnings.warn(f\"Sentence of length {len(tokens)} has been truncated to {max_len}\")\n"
     ]
    },
    {
     "name": "stdout",
     "output_type": "stream",
     "text": [
      "Number of entities before deduplication: 15\n",
      "Number of unique entities after deduplication: 14\n"
     ]
    },
    {
     "data": {
      "text/plain": [
       "[{'start': 107,\n",
       "  'end': 118,\n",
       "  'text': 'BerlinUnter',\n",
       "  'label': 'city',\n",
       "  'score': 0.7392323017120361},\n",
       " {'start': 179,\n",
       "  'end': 185,\n",
       "  'text': 'Berlin',\n",
       "  'label': 'city',\n",
       "  'score': 0.9862346053123474},\n",
       " {'start': 154,\n",
       "  'end': 171,\n",
       "  'text': 'Dorotheenstraße 1',\n",
       "  'label': 'address',\n",
       "  'score': 0.8000809550285339},\n",
       " {'start': 273,\n",
       "  'end': 287,\n",
       "  'text': 'Joachim Gassen',\n",
       "  'label': 'person',\n",
       "  'score': 0.5068864822387695},\n",
       " {'start': 295,\n",
       "  'end': 312,\n",
       "  'text': '+49 30 2093-99440',\n",
       "  'label': 'phone_number',\n",
       "  'score': 0.6214548349380493},\n",
       " {'start': 318,\n",
       "  'end': 335,\n",
       "  'text': '+49 30 2093-99441',\n",
       "  'label': 'phone_number',\n",
       "  'score': 0.5376328825950623},\n",
       " {'start': 476,\n",
       "  'end': 502,\n",
       "  'text': 'German Research Foundation',\n",
       "  'label': 'organisation',\n",
       "  'score': 0.7187440395355225},\n",
       " {'start': 504,\n",
       "  'end': 535,\n",
       "  'text': 'Deutsche Forschungsgemeinschaft',\n",
       "  'label': 'organisation',\n",
       "  'score': 0.5554184913635254},\n",
       " {'start': 538,\n",
       "  'end': 541,\n",
       "  'text': 'DFG',\n",
       "  'label': 'organisation',\n",
       "  'score': 0.5261664986610413},\n",
       " {'start': 1052,\n",
       "  'end': 1102,\n",
       "  'text': 'Institut für Rechnungswesen und Wirtschaftsprüfung',\n",
       "  'label': 'organisation',\n",
       "  'score': 0.6106427311897278},\n",
       " {'start': 1157,\n",
       "  'end': 1182,\n",
       "  'text': 'Bachelorseminar (Deutsch)',\n",
       "  'label': 'course',\n",
       "  'score': 0.7494056820869446},\n",
       " {'start': 1484,\n",
       "  'end': 1505,\n",
       "  'text': 'Accounting (Englisch)',\n",
       "  'label': 'course',\n",
       "  'score': 0.5141594409942627},\n",
       " {'start': 1831,\n",
       "  'end': 1867,\n",
       "  'text': 'Institute of Accounting and Auditing',\n",
       "  'label': 'organisation',\n",
       "  'score': 0.7579002380371094},\n",
       " {'start': 1930,\n",
       "  'end': 1945,\n",
       "  'text': 'Bachelorseminar',\n",
       "  'label': 'course',\n",
       "  'score': 0.6100236177444458}]"
      ]
     },
     "execution_count": 77,
     "metadata": {},
     "output_type": "execute_result"
    }
   ],
   "source": [
    "# Define labels to look for\n",
    "labels = [\"person\", \"course\", \"date\", \"research_paper\", \"research_project\", \"teams\", \"city\", \"address\", \"organisation\", \"phone_number\", \"url\", \"other\"]\n",
    "\n",
    "# Predict entities in the text using the model\n",
    "entities = model.predict_entities(text, labels)\n",
    "\n",
    "# Print the number of entities found\n",
    "print(f\"Number of entities before deduplication: {len(entities)}\")\n",
    "\n",
    "# Remove duplicates by considering both 'text' and 'label'\n",
    "unique_entities = { (entity['text'], entity['label']): entity for entity in entities }.values()\n",
    "\n",
    "# Convert back to a list of dictionaries\n",
    "unique_entities = list(unique_entities)\n",
    "\n",
    "# Print the number of entities after deduplication\n",
    "print(f\"Number of unique entities after deduplication: {len(unique_entities)}\")\n",
    "\n",
    "# Optional: If you want to print out the unique entities\n",
    "# for entity in unique_entities:\n",
    "#     print(f\"{entity['text']} => {entity['label']}\")\n",
    "\n",
    "unique_entities"
   ]
  },
  {
   "cell_type": "code",
   "execution_count": 78,
   "metadata": {},
   "outputs": [
    {
     "data": {
      "text/plain": [
       "{'city': ['BerlinUnter', 'Berlin'],\n",
       " 'address': ['Dorotheenstraße 1'],\n",
       " 'person': ['Joachim Gassen'],\n",
       " 'phone_number': ['+49 30 2093-99440', '+49 30 2093-99441'],\n",
       " 'organisation': ['German Research Foundation',\n",
       "  'Deutsche Forschungsgemeinschaft',\n",
       "  'DFG',\n",
       "  'Institut für Rechnungswesen und Wirtschaftsprüfung',\n",
       "  'Institute of Accounting and Auditing'],\n",
       " 'course': ['Bachelorseminar (Deutsch)',\n",
       "  'Accounting (Englisch)',\n",
       "  'Bachelorseminar']}"
      ]
     },
     "execution_count": 78,
     "metadata": {},
     "output_type": "execute_result"
    }
   ],
   "source": [
    "unique_entities = { (entity['text'], entity['label']): entity for entity in entities }.values()\n",
    "unique_entities = list(unique_entities)\n",
    "\n",
    "\n",
    "from collections import defaultdict\n",
    "\n",
    "# Create a defaultdict to handle multiple entities with the same label\n",
    "label_name_dict = defaultdict(list)\n",
    "\n",
    "for entity in unique_entities:\n",
    "    label_name_dict[entity['label']].append(entity['text'])\n",
    "\n",
    "# Convert defaultdict to a regular dict if necessary\n",
    "label_name_dict = dict(label_name_dict)\n",
    "\n",
    "# Print the result to verify\n",
    "label_name_dict"
   ]
  },
  {
   "cell_type": "code",
   "execution_count": null,
   "metadata": {},
   "outputs": [],
   "source": [
    "\n",
    "from semantic_chunker import *\n",
    "process_data_semantic(df_subset, model, labels)"
   ]
  }
 ],
 "metadata": {
  "kernelspec": {
   "display_name": "huber",
   "language": "python",
   "name": "python3"
  },
  "language_info": {
   "codemirror_mode": {
    "name": "ipython",
    "version": 3
   },
   "file_extension": ".py",
   "mimetype": "text/x-python",
   "name": "python",
   "nbconvert_exporter": "python",
   "pygments_lexer": "ipython3",
   "version": "3.11.9"
  }
 },
 "nbformat": 4,
 "nbformat_minor": 2
}
