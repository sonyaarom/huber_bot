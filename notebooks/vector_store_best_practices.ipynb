{
 "cells": [
  {
   "cell_type": "markdown",
   "metadata": {},
   "source": [
    "# Notebook dedicated to the best practices in Vector Store Organisation\n",
    "\n",
    "https://www.researchgate.net/profile/Karthik-Meduri/publication/380265505_Efficient_RAG_Framework_for_Large-Scale_Knowledge_Bases/links/66330b9a08aa54017ad48c42/Efficient-RAG-Framework-for-Large-Scale-Knowledge-Bases.pdf\n",
    "\n"
   ]
  },
  {
   "cell_type": "markdown",
   "metadata": {},
   "source": [
    "## EMBEDDINGS\n",
    "\n",
    "sentence-chunking strategy "
   ]
  },
  {
   "cell_type": "markdown",
   "metadata": {},
   "source": [
    "Choosing Vector Embedding Types\n",
    "When choosing vector embeddings for RAG applications, it's a must to choose the right ML model for vector creation and understand the different embedding types available: dense, sparse, and binary embeddings."
   ]
  },
  {
   "cell_type": "markdown",
   "metadata": {},
   "source": [
    "1. embeddings differences\n",
    "2. final schema design\n"
   ]
  },
  {
   "cell_type": "code",
   "execution_count": null,
   "metadata": {
    "vscode": {
     "languageId": "plaintext"
    }
   },
   "outputs": [],
   "source": []
  },
  {
   "cell_type": "markdown",
   "metadata": {},
   "source": [
    "## Namespaces\n",
    "\n",
    "When to use namespaces?\\\n",
    "\t1.\tMulti-Tenancy: If you have multiple clients or users whose data needs to be kept separate, namespaces are essential.\\\n",
    "\t•\tExample: A SaaS application where each customer’s data is stored in a separate namespace.\\\n",
    "\t2.\tDifferent Data Types or Sources: When dealing with diverse datasets that require different processing or indexing strategies.\\\n",
    "\t•\tExample: Separating news articles, product descriptions, and social media posts.\\\n",
    "\t3.\tExperimentation and Testing: When running experiments or A/B tests with different configurations or versions of embeddings and indexes.\\\n",
    "\t•\tExample: Comparing the performance of two different embedding models.\\\n",
    "\t4.\tLogical Partitioning: For organizational purposes, such as separating data by department, region, or time period.\\\n",
    "\t•\tExample: Storing sales data by geographic region.\n"
   ]
  },
  {
   "cell_type": "markdown",
   "metadata": {},
   "source": [
    "## Named Entity Recognition"
   ]
  },
  {
   "cell_type": "markdown",
   "metadata": {},
   "source": [
    "## Types of Retrievers"
   ]
  },
  {
   "cell_type": "markdown",
   "metadata": {},
   "source": [
    "## Sparse vs. Dense vs. Hybrid "
   ]
  },
  {
   "cell_type": "code",
   "execution_count": null,
   "metadata": {
    "vscode": {
     "languageId": "plaintext"
    }
   },
   "outputs": [],
   "source": []
  }
 ],
 "metadata": {
  "language_info": {
   "name": "python"
  }
 },
 "nbformat": 4,
 "nbformat_minor": 2
}
