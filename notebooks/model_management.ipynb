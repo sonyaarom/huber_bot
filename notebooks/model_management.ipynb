{
 "cells": [
  {
   "cell_type": "code",
   "execution_count": 1,
   "metadata": {},
   "outputs": [
    {
     "name": "stderr",
     "output_type": "stream",
     "text": [
      "/Users/s.konchakova/.pyenv/versions/3.9.7/lib/python3.9/site-packages/pinecone/data/index.py:1: TqdmWarning: IProgress not found. Please update jupyter and ipywidgets. See https://ipywidgets.readthedocs.io/en/stable/user_install.html\n",
      "  from tqdm.autonotebook import tqdm\n"
     ]
    }
   ],
   "source": [
    "import os\n",
    "import pandas as pd\n",
    "import sys\n",
    "from langchain_community.embeddings import HuggingFaceEmbeddings\n",
    "\n",
    "# Get the current working directory\n",
    "cwd = os.getcwd()\n",
    "\n",
    "\n",
    "# Add the '../scripts' directory to the system path\n",
    "sys.path.insert(0, os.path.abspath(os.path.join(cwd, '../scripts')))\n",
    "sys.path.insert(0, os.path.abspath(os.path.join(cwd, '../src')))\n",
    "sys.path.insert(0, os.path.abspath(os.path.join(cwd, '../models')))\n",
    "\n",
    "\n",
    "from pinecone import Pinecone\n",
    "from dotenv import load_dotenv\n",
    "from pinecone_func import pinecone_upsert\n",
    "\n",
    "from model_management.model import Model"
   ]
  },
  {
   "cell_type": "code",
   "execution_count": 4,
   "metadata": {},
   "outputs": [
    {
     "name": "stdout",
     "output_type": "stream",
     "text": [
      "\n",
      "Query: When did the last Autumn retreat take place?\n",
      " The last Autumn retreat took place, but the specific date is not mentioned in the text.Answer:\n",
      " The last Autumn retreat took place, but the specific date is not mentioned in the text.\n",
      "\n",
      "Sources: https://www.wiwi.hu-berlin.de/en/academic-career/doctoral-studies/during-the-doctoral-studies/further-events/dates-further-events/21-22-october-2024-autumn-retreat-of-the-graduate-centre, https://www.wiwi.hu-berlin.de/en/academic-career/doctoral-studies/during-the-doctoral-studies/further-events/dates-further-events/21-22-october-2024-autumn-retreat-of-the-graduate-centre\n",
      "--------------------------------------------------\n",
      "\n",
      "Query: What are Yao’s research interests?\n",
      " Based on the text chunks, it is unclear what Yao's research interests are. However, the text does mention that Yao's interests lie in the cross-fire field of financial markets and machine learning. Additionally, Yao has passed all three levels of the Chartered Financial Analyst (CFA) exams and is now working at Eurex Clearing AG as a quantitative analyst, responsible for exchange-traded derivative pricing and margin models.Answer:\n",
      " Based on the text chunks, it is unclear what Yao's research interests are. However, the text does mention that Yao's interests lie in the cross-fire field of financial markets and machine learning. Additionally, Yao has passed all three levels of the Chartered Financial Analyst (CFA) exams and is now working at Eurex Clearing AG as a quantitative analyst, responsible for exchange-traded derivative pricing and margin models.\n",
      "\n",
      "Sources: https://www.wiwi.hu-berlin.de/en/Professorships/bwl/wi/personen-en/yaozhuhuai-he, https://www.wiwi.hu-berlin.de/en/Professorships/bwl/wi/personen-en/yaozhuhuai-he\n",
      "--------------------------------------------------\n"
     ]
    }
   ],
   "source": [
    "def main():\n",
    "    # Initialize the model\n",
    "    MODEL_PATH = '/Users/s.konchakova/Thesis/models/mistral-7b-instruct-v0.1.Q3_K_M.gguf'  # Replace with the actual path to your model\n",
    "    INDEX_NAME = 'data-management-example'  # Replace with your Pinecone index name\n",
    "       # Replace with your actual Pinecone API key\n",
    "    \n",
    "    model = Model(MODEL_PATH, INDEX_NAME, PINECONE_API_KEY)\n",
    "\n",
    "    # Example queries\n",
    "    queries = [\n",
    "        \"When did the last Autumn retreat take place?\",\n",
    "        \"What are Yao’s research interests?\",\n",
    "    ]\n",
    "\n",
    "    # Process each query\n",
    "    for query in queries:\n",
    "        print(f\"\\nQuery: {query}\")\n",
    "        \n",
    "        # Get the answer, specifying the number of chunks and URLs to retrieve\n",
    "        answer = model.process_query(query, num_chunks=3, num_urls=2)\n",
    "        \n",
    "        print(\"Answer:\")\n",
    "        print(answer)\n",
    "        print(\"-\" * 50)\n",
    "\n",
    "if __name__ == \"__main__\":\n",
    "    main()"
   ]
  }
 ],
 "metadata": {
  "kernelspec": {
   "display_name": "Python 3",
   "language": "python",
   "name": "python3"
  },
  "language_info": {
   "codemirror_mode": {
    "name": "ipython",
    "version": 3
   },
   "file_extension": ".py",
   "mimetype": "text/x-python",
   "name": "python",
   "nbconvert_exporter": "python",
   "pygments_lexer": "ipython3",
   "version": "3.9.7"
  }
 },
 "nbformat": 4,
 "nbformat_minor": 2
}
