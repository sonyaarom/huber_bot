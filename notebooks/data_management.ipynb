{
 "cells": [
  {
   "cell_type": "markdown",
   "metadata": {},
   "source": [
    "# Data Management Functionality"
   ]
  },
  {
   "cell_type": "markdown",
   "metadata": {},
   "source": [
    "##  Introduction\n",
    "\n",
    "Welcome to this Jupyter notebook, which is designed to showcase and explain the usage of functions defined in the src/data_management module. These functions have been specifically developed to streamline the process of handling and managing data, particularly focusing on the download and processing of .gz files from the sitemap of the WiWi faculty at Humboldt University of Berlin (HU Berlin).\n",
    "\n",
    "## Objectives\n",
    "\n",
    "In this notebook, we will:\n",
    "\n",
    "1.\tIntroduce the key functions in the src/data_management module.\n",
    "2.\tDemonstrate how to use these functions effectively.\n",
    "3.\tProvide examples and use cases to illustrate their practical application.\n",
    "4.\tExplain the underlying logic and parameters of each function to ensure a clear understanding of their purpose and usage.\n",
    "\n",
    "## Overview\n",
    "\n",
    "The functions in src/data_management have been updated to enhance their capabilities, allowing for efficient downloading and processing of compressed .gz files. These updates are crucial for handling large datasets, ensuring that data extraction from the WiWi faculty’s sitemap is both effective and user-friendly.\n",
    "\n",
    "We will begin by exploring the individual functions, followed by detailed demonstrations that will guide you through the process of utilizing these tools to manage and analyze data efficiently.\n",
    "\n",
    "Please note, that this notebook will not showcase the upload of the derived files into the databases, as it is not the goal of this notebook."
   ]
  },
  {
   "cell_type": "code",
   "execution_count": 1,
   "metadata": {},
   "outputs": [
    {
     "name": "stderr",
     "output_type": "stream",
     "text": [
      "/Users/s.konchakova/.pyenv/versions/3.9.7/lib/python3.9/site-packages/tqdm/auto.py:21: TqdmWarning: IProgress not found. Please update jupyter and ipywidgets. See https://ipywidgets.readthedocs.io/en/stable/user_install.html\n",
      "  from .autonotebook import tqdm as notebook_tqdm\n",
      "2024-07-18 00:42:38,967 - INFO - Found credentials in shared credentials file: ~/.aws/credentials\n",
      "2024-07-18 00:42:41,575 - INFO - Load pretrained SentenceTransformer: BAAI/bge-small-en\n",
      "2024-07-18 00:42:43,695 - INFO - 2 prompts are loaded, with the keys: ['query', 'text']\n"
     ]
    }
   ],
   "source": [
    "import os\n",
    "import pandas as pd\n",
    "import sys\n",
    "\n",
    "# Get the current working directory\n",
    "cwd = os.getcwd()\n",
    "\n",
    "# Add the '../scripts' directory to the system path\n",
    "sys.path.insert(0, os.path.abspath(os.path.join(cwd, '../scripts')))\n",
    "sys.path.insert(0, os.path.abspath(os.path.join(cwd, '../src')))\n",
    "\n",
    "from data_management.i_scheme_downloader import *\n",
    "from data_management.ii_unzip_convert_json import *\n",
    "from data_management.iii_content_downloader import *\n",
    "from data_management.iv_html_retriever_cleaner import *\n",
    "from data_management.v_chunker_embedder import *\n",
    "\n",
    "\n",
    "SITEMAP_URL = 'https://www.wiwi.hu-berlin.de/sitemap.xml.gz'\n",
    "PATTERN = r'''<loc>(https://www\\.wiwi\\.hu-berlin\\.de/en/(?!.*\\.jpeg|.*\\.pdf|.*\\.png|.*\\.jpg).*?)(?<!/view)</loc>\\s*<lastmod>([^<]+)</lastmod>'''"
   ]
  },
  {
   "cell_type": "markdown",
   "metadata": {},
   "source": [
    "## Download and Unpack the Sitemap File\n",
    "\n",
    "In this step, we will download the sitemap file from the provided web link, which contains links to all pages of the website along with their last update dates. The sitemap file is compressed in .gz format, so we will also unpack it to access the data."
   ]
  },
  {
   "cell_type": "code",
   "execution_count": 18,
   "metadata": {},
   "outputs": [
    {
     "name": "stderr",
     "output_type": "stream",
     "text": [
      "2024-07-18 00:54:58,426 - INFO - Unzipping local file: /tmp/sitemap.xml.gz\n",
      "2024-07-18 00:54:58,433 - INFO - Successfully unzipped local file: /tmp/sitemap.xml.gz\n"
     ]
    }
   ],
   "source": [
    "file = download_file(SITEMAP_URL)\n",
    "\n",
    "content = unzip_local_file(file).decode('utf-8')"
   ]
  },
  {
   "cell_type": "code",
   "execution_count": 19,
   "metadata": {},
   "outputs": [
    {
     "name": "stdout",
     "output_type": "stream",
     "text": [
      "The preview of the extracted content of the gz file: <?xml version=\"1.0\" encoding=\"UTF-8\"?>\n",
      "<urlset xmlns=\"http://www.sitemaps.org/schemas/sitemap/0.9\" xmlns:xsi=\"http://www.w3.org/2001/XMLSchema-instance\" xsi:schemaLocation=\"http://www.sitemaps.org/schemas/sitemap/0.9 http://www.sitemaps.org/schemas/sitemap/0.9/sitemap.xsd\">\n",
      "<url>\n",
      "  <loc>https://www.wiwi.hu-berlin.de</loc>\n",
      "  <lastmod>2021-11-09T20:03:57+01:00</lastmod>\n",
      "  \n",
      "  \n",
      "</url>\n",
      "<url>\n",
      "  <loc>https://www.wiwi.hu-berlin.de/en/Professorships/vwl/microeconomics/people/wlefez</loc>\n",
      "  <lastmod>2023-\n"
     ]
    }
   ],
   "source": [
    "print(f\"The preview of the extracted content of the gz file: {content[:500]}\")"
   ]
  },
  {
   "cell_type": "markdown",
   "metadata": {},
   "source": [
    "As we "
   ]
  },
  {
   "cell_type": "code",
   "execution_count": null,
   "metadata": {},
   "outputs": [],
   "source": []
  }
 ],
 "metadata": {
  "kernelspec": {
   "display_name": "hu_chatbot",
   "language": "python",
   "name": "python3"
  },
  "language_info": {
   "codemirror_mode": {
    "name": "ipython",
    "version": 3
   },
   "file_extension": ".py",
   "mimetype": "text/x-python",
   "name": "python",
   "nbconvert_exporter": "python",
   "pygments_lexer": "ipython3",
   "version": "3.9.7"
  }
 },
 "nbformat": 4,
 "nbformat_minor": 2
}
